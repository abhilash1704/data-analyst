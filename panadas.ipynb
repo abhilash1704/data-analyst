{
 "cells": [
  {
   "cell_type": "code",
   "execution_count": 6,
   "id": "87acf895",
   "metadata": {},
   "outputs": [
    {
     "name": "stdout",
     "output_type": "stream",
     "text": [
      "series \n",
      " 0     1\n",
      "1     2\n",
      "2     4\n",
      "3    56\n",
      "4     7\n",
      "5     8\n",
      "dtype: int64\n",
      "<class 'pandas.core.series.Series'>\n"
     ]
    }
   ],
   "source": [
    "# .Series()-> used to single dim array to series\n",
    "\n",
    "import pandas as pd\n",
    "data=[1,2,4,56,7,8]\n",
    "series=pd.Series(data)\n",
    "print(\"series \\n\",series)\n",
    "print(type(series))"
   ]
  },
  {
   "cell_type": "code",
   "execution_count": 7,
   "id": "6167d896",
   "metadata": {},
   "outputs": [
    {
     "name": "stdout",
     "output_type": "stream",
     "text": [
      "a     1\n",
      "b     2\n",
      "c    10\n",
      "dtype: int64\n"
     ]
    }
   ],
   "source": [
    "# dictionary \n",
    "\n",
    "data ={'a':1,'b':2,'c':10}\n",
    "series=pd.Series(data)\n",
    "print(series)"
   ]
  },
  {
   "cell_type": "code",
   "execution_count": 5,
   "id": "8bbd2609",
   "metadata": {},
   "outputs": [
    {
     "data": {
      "text/plain": [
       "a    10\n",
       "b    20\n",
       "c    30\n",
       "dtype: int64"
      ]
     },
     "execution_count": 5,
     "metadata": {},
     "output_type": "execute_result"
    }
   ],
   "source": [
    "\n",
    "import pandas as pd\n",
    "data=[10,20,30]\n",
    "index=['a','b','c']\n",
    "pd.Series(data,index=index)"
   ]
  },
  {
   "cell_type": "code",
   "execution_count": 12,
   "id": "30f947d6",
   "metadata": {},
   "outputs": [
    {
     "name": "stdout",
     "output_type": "stream",
     "text": [
      "  name  age   palce\n",
      "0    a   25  hospet\n",
      "1    b   21     kal\n",
      "2    c   27  mysore\n",
      "<class 'pandas.core.frame.DataFrame'>\n"
     ]
    }
   ],
   "source": [
    "## dataframe==multiple rows and coloumn\n",
    "abhi={\n",
    "    'name':['a','b','c'],\n",
    "    'age':[25,21,27],\n",
    "    'palce':['hospet','kal','mysore']\n",
    "}\n",
    "df=pd.DataFrame(abhi)\n",
    "print(df)\n",
    "print(type(df))"
   ]
  },
  {
   "cell_type": "code",
   "execution_count": 3,
   "id": "97cdc7eb",
   "metadata": {},
   "outputs": [
    {
     "name": "stdout",
     "output_type": "stream",
     "text": [
      "  name  age   palce\n",
      "0    a   25  hospet\n",
      "1    b   21     kal\n",
      "2    c   27    bang\n",
      "<class 'pandas.core.frame.DataFrame'>\n"
     ]
    }
   ],
   "source": [
    "#    .loc[]---row index\n",
    "#     .iloc[]--coloumn index\n",
    "import pandas as pd\n",
    "ab={\n",
    "    'name':['a','b','c'],\n",
    "    'age':[25,21,27],\n",
    "    'palce':['hospet','kal','bang']\n",
    "}\n",
    "df=pd.DataFrame(ab)\n",
    "print(df)\n",
    "print(type(df))"
   ]
  },
  {
   "cell_type": "code",
   "execution_count": 21,
   "id": "4413c430",
   "metadata": {},
   "outputs": [
    {
     "data": {
      "text/plain": [
       "name          c\n",
       "age          27\n",
       "palce    mysore\n",
       "Name: 2, dtype: object"
      ]
     },
     "execution_count": 21,
     "metadata": {},
     "output_type": "execute_result"
    }
   ],
   "source": [
    "df.loc[2]"
   ]
  },
  {
   "cell_type": "code",
   "execution_count": 24,
   "id": "d9f7aa8a",
   "metadata": {},
   "outputs": [
    {
     "data": {
      "text/plain": [
       "name          a\n",
       "age          25\n",
       "palce    hospet\n",
       "Name: 0, dtype: object"
      ]
     },
     "execution_count": 24,
     "metadata": {},
     "output_type": "execute_result"
    }
   ],
   "source": [
    "df.iloc[0]"
   ]
  },
  {
   "cell_type": "code",
   "execution_count": 25,
   "id": "a79bd218",
   "metadata": {},
   "outputs": [
    {
     "data": {
      "text/plain": [
       "0    a\n",
       "1    b\n",
       "2    c\n",
       "Name: name, dtype: object"
      ]
     },
     "execution_count": 25,
     "metadata": {},
     "output_type": "execute_result"
    }
   ],
   "source": [
    "df['name']"
   ]
  },
  {
   "cell_type": "code",
   "execution_count": 26,
   "id": "50571210",
   "metadata": {},
   "outputs": [
    {
     "name": "stderr",
     "output_type": "stream",
     "text": [
      "C:\\Users\\abhil\\AppData\\Local\\Temp\\ipykernel_17680\\2519637664.py:1: FutureWarning: Series.__getitem__ treating keys as positions is deprecated. In a future version, integer keys will always be treated as labels (consistent with DataFrame behavior). To access a value by position, use `ser.iloc[pos]`\n",
      "  df.iloc[0][2]\n"
     ]
    },
    {
     "data": {
      "text/plain": [
       "'hospet'"
      ]
     },
     "execution_count": 26,
     "metadata": {},
     "output_type": "execute_result"
    }
   ],
   "source": [
    "df.iloc[0][2]"
   ]
  },
  {
   "cell_type": "code",
   "execution_count": null,
   "id": "876eb9f2",
   "metadata": {},
   "outputs": [],
   "source": []
  }
 ],
 "metadata": {
  "kernelspec": {
   "display_name": "base",
   "language": "python",
   "name": "python3"
  },
  "language_info": {
   "codemirror_mode": {
    "name": "ipython",
    "version": 3
   },
   "file_extension": ".py",
   "mimetype": "text/x-python",
   "name": "python",
   "nbconvert_exporter": "python",
   "pygments_lexer": "ipython3",
   "version": "3.13.5"
  }
 },
 "nbformat": 4,
 "nbformat_minor": 5
}
